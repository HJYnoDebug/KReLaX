{
 "cells": [
  {
   "cell_type": "code",
   "execution_count": 2,
   "id": "dcf3a885-fc7e-44c3-b41a-c79967f95f5b",
   "metadata": {},
   "outputs": [
    {
     "name": "stdout",
     "output_type": "stream",
     "text": [
      "File: pred_vmw.csv has all-zero columns: ['disgust']\n"
     ]
    }
   ],
   "source": [
    "import os\n",
    "import pandas as pd\n",
    "\n",
    "# 检查目录中是否有全部为 0 的列\n",
    "def check_all_zero_columns(directory):\n",
    "    # 获取文件夹中的所有 CSV 文件\n",
    "    files = [f for f in os.listdir(directory) if f.endswith('.csv')]\n",
    "    if not files:\n",
    "        print(f\"No CSV files found in the directory: {directory}\")\n",
    "        return\n",
    "    \n",
    "    # 遍历文件\n",
    "    for file in files:\n",
    "        file_path = os.path.join(directory, file)\n",
    "        try:\n",
    "            # 读取文件\n",
    "            data = pd.read_csv(file_path)\n",
    "\n",
    "            # 检查每列是否全为 0\n",
    "            all_zero_columns = [col for col in data.columns if data[col].sum() == 0]\n",
    "\n",
    "            # 如果存在全部为 0 的列，打印文件名和列名\n",
    "            if all_zero_columns:\n",
    "                print(f\"File: {file} has all-zero columns: {all_zero_columns}\")\n",
    "\n",
    "        except Exception as e:\n",
    "            print(f\"Error reading {file}: {e}\")\n",
    "\n",
    "# 主函数\n",
    "if __name__ == \"__main__\":\n",
    "    directory = \"../test_data/c_pred\"  # 请根据实际路径修改\n",
    "    check_all_zero_columns(directory)\n"
   ]
  },
  {
   "cell_type": "code",
   "execution_count": null,
   "id": "2c8a12d3-d7d4-44b1-bade-9de51c0fa78b",
   "metadata": {},
   "outputs": [],
   "source": []
  }
 ],
 "metadata": {
  "kernelspec": {
   "display_name": "Python 3 (ipykernel)",
   "language": "python",
   "name": "python3"
  },
  "language_info": {
   "codemirror_mode": {
    "name": "ipython",
    "version": 3
   },
   "file_extension": ".py",
   "mimetype": "text/x-python",
   "name": "python",
   "nbconvert_exporter": "python",
   "pygments_lexer": "ipython3",
   "version": "3.10.8"
  }
 },
 "nbformat": 4,
 "nbformat_minor": 5
}
